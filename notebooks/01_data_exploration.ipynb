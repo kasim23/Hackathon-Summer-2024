{
 "cells": [
  {
   "cell_type": "code",
   "execution_count": 5,
   "metadata": {},
   "outputs": [
    {
     "name": "stdout",
     "output_type": "stream",
     "text": [
      "Imports Successful!\n"
     ]
    }
   ],
   "source": [
    "import pandas as pd\n",
    "import matplotlib.pyplot as plt\n",
    "import seaborn as sns\n",
    "import h5py\n",
    "import pandas as pd\n",
    "import scipy.sparse as sp\n",
    "\n",
    "\n",
    "\n",
    "print('Imports Successful!')"
   ]
  },
  {
   "cell_type": "markdown",
   "metadata": {},
   "source": [
    "# ATAC DATA"
   ]
  },
  {
   "cell_type": "code",
   "execution_count": 8,
   "metadata": {},
   "outputs": [
    {
     "name": "stdout",
     "output_type": "stream",
     "text": [
      "Keys in HDF5 file: ['ATAC']\n"
     ]
    }
   ],
   "source": [
    "data_path = \"/Users/omama/Documents/Portfolio/gids_hackathon2024/Hackathon-Summer-2024/data/Hackathon2024_ATAC.h5\"\n",
    "\n",
    "# Open the HDF5 file and list its contents\n",
    "with h5py.File(data_path, 'r') as f:\n",
    "    print(\"Keys in HDF5 file:\", list(f.keys()))\n",
    "\n",
    "# # Load the HDF5 file\n",
    "# with h5py.File(data_path, 'r') as f:\n",
    "#     i = f['i'][:]\n",
    "#     p = f['p'][:]\n",
    "#     dim = f['Dim'][:]\n",
    "#     dimnames = f['Dimnames'][:]\n",
    "#     x = f['x'][:]\n",
    "\n",
    "# # Reconstruct the sparse matrix\n",
    "# atac_sparse = sp.csc_matrix((x, i, p), shape=(dim[0], dim[1]))\n",
    "\n",
    "# # Convert to a pandas DataFrame (if needed)\n",
    "# atac_df = pd.DataFrame.sparse.from_spmatrix(atac_sparse)\n",
    "\n",
    "# # Inspect the DataFrame\n",
    "# print(atac_df.head())\n"
   ]
  },
  {
   "cell_type": "code",
   "execution_count": 9,
   "metadata": {},
   "outputs": [
    {
     "name": "stdout",
     "output_type": "stream",
     "text": [
      "ATAC data attributes: ['rhdf5-NA.OK']\n",
      "rhdf5-NA.OK: [1]\n",
      "ATAC data shape: (2999, 108344)\n"
     ]
    }
   ],
   "source": [
    "# Open the HDF5 file and inspect the 'ATAC' dataset\n",
    "with h5py.File(data_path, 'r') as f:\n",
    "    atac_data = f['ATAC']\n",
    "    print(\"ATAC data attributes:\", list(atac_data.attrs.keys()))\n",
    "    for key in atac_data.attrs.keys():\n",
    "        print(f\"{key}: {atac_data.attrs[key]}\")\n",
    "    print(\"ATAC data shape:\", atac_data.shape)"
   ]
  },
  {
   "cell_type": "code",
   "execution_count": 10,
   "metadata": {},
   "outputs": [
    {
     "name": "stdout",
     "output_type": "stream",
     "text": [
      "   0       1       2       3       4       5       6       7       8       \\\n",
      "0     0.0     0.0     0.0     0.0     0.0     2.0     0.0     2.0     0.0   \n",
      "1     0.0     0.0     0.0     2.0     0.0     0.0     0.0     0.0     0.0   \n",
      "2     0.0     0.0     0.0     0.0     0.0     0.0     0.0     2.0     0.0   \n",
      "3     0.0     0.0     0.0     0.0     0.0     0.0     0.0     0.0     2.0   \n",
      "4     0.0     0.0     0.0     0.0     0.0     0.0     0.0     6.0     2.0   \n",
      "\n",
      "   9       ...  108334  108335  108336  108337  108338  108339  108340  \\\n",
      "0     0.0  ...     0.0     0.0     0.0     0.0     0.0     0.0     0.0   \n",
      "1     0.0  ...     0.0     0.0     0.0     2.0     0.0     0.0     0.0   \n",
      "2     0.0  ...     1.0     0.0     0.0     0.0     0.0     0.0     0.0   \n",
      "3     0.0  ...     0.0     0.0     0.0     0.0     0.0     0.0     0.0   \n",
      "4     2.0  ...     0.0     0.0     0.0     2.0     0.0     0.0     0.0   \n",
      "\n",
      "   108341  108342  108343  \n",
      "0     0.0     0.0     0.0  \n",
      "1     0.0     0.0     0.0  \n",
      "2     0.0     0.0     0.0  \n",
      "3     0.0     0.0     0.0  \n",
      "4     0.0     0.0     0.0  \n",
      "\n",
      "[5 rows x 108344 columns]\n"
     ]
    }
   ],
   "source": [
    "# Open the HDF5 file and load the 'ATAC' dataset\n",
    "with h5py.File(data_path, 'r') as f:\n",
    "    atac_data = f['ATAC'][:]\n",
    "\n",
    "# Convert the dense matrix to a pandas DataFrame\n",
    "atac_df = pd.DataFrame(atac_data)\n",
    "\n",
    "# Inspect the DataFrame\n",
    "print(atac_df.head())"
   ]
  },
  {
   "cell_type": "markdown",
   "metadata": {},
   "source": [
    "# Reading ATAC With Gzip"
   ]
  },
  {
   "cell_type": "code",
   "execution_count": 17,
   "metadata": {},
   "outputs": [
    {
     "data": {
      "text/html": [
       "<div>\n",
       "<style scoped>\n",
       "    .dataframe tbody tr th:only-of-type {\n",
       "        vertical-align: middle;\n",
       "    }\n",
       "\n",
       "    .dataframe tbody tr th {\n",
       "        vertical-align: top;\n",
       "    }\n",
       "\n",
       "    .dataframe thead th {\n",
       "        text-align: right;\n",
       "    }\n",
       "</style>\n",
       "<table border=\"1\" class=\"dataframe\">\n",
       "  <thead>\n",
       "    <tr style=\"text-align: right;\">\n",
       "      <th></th>\n",
       "      <th>AAACCAACACAATGCC.1</th>\n",
       "      <th>AAACCAACAGGAACTG.1</th>\n",
       "      <th>AAACCAACATAATCCG.1</th>\n",
       "      <th>AAACCAACATTGTGCA.1</th>\n",
       "      <th>AAACCGCGTACTTCAC.1</th>\n",
       "      <th>AAACCGGCATAATCAC.1</th>\n",
       "      <th>AAACGCGCAGCAAGAT.1</th>\n",
       "      <th>AAACGGATCCCATAGG.1</th>\n",
       "      <th>AAAGCAAGTGCTAGCG.1</th>\n",
       "      <th>AAAGCCCGTCCTTTAA.1</th>\n",
       "      <th>...</th>\n",
       "      <th>TTTGTCCCAGTAGGAT.1</th>\n",
       "      <th>TTTGTCTAGCTATTAG.1</th>\n",
       "      <th>TTTGTCTAGGACCTGC.1</th>\n",
       "      <th>TTTGTGAAGCGATACT.1</th>\n",
       "      <th>TTTGTGAAGGAACGGT.1</th>\n",
       "      <th>TTTGTGGCAGCAACCT.1</th>\n",
       "      <th>TTTGTGTTCATTGACA.1</th>\n",
       "      <th>TTTGTGTTCGTCAAGT.1</th>\n",
       "      <th>TTTGTGTTCTCCATAT.1</th>\n",
       "      <th>TTTGTTGGTCAGGAAG.1</th>\n",
       "    </tr>\n",
       "    <tr>\n",
       "      <th>peak</th>\n",
       "      <th></th>\n",
       "      <th></th>\n",
       "      <th></th>\n",
       "      <th></th>\n",
       "      <th></th>\n",
       "      <th></th>\n",
       "      <th></th>\n",
       "      <th></th>\n",
       "      <th></th>\n",
       "      <th></th>\n",
       "      <th></th>\n",
       "      <th></th>\n",
       "      <th></th>\n",
       "      <th></th>\n",
       "      <th></th>\n",
       "      <th></th>\n",
       "      <th></th>\n",
       "      <th></th>\n",
       "      <th></th>\n",
       "      <th></th>\n",
       "      <th></th>\n",
       "    </tr>\n",
       "  </thead>\n",
       "  <tbody>\n",
       "    <tr>\n",
       "      <th>chr1-10109-10357</th>\n",
       "      <td>0</td>\n",
       "      <td>0</td>\n",
       "      <td>0</td>\n",
       "      <td>0</td>\n",
       "      <td>0</td>\n",
       "      <td>0</td>\n",
       "      <td>0</td>\n",
       "      <td>0</td>\n",
       "      <td>0</td>\n",
       "      <td>0</td>\n",
       "      <td>...</td>\n",
       "      <td>0</td>\n",
       "      <td>0</td>\n",
       "      <td>0</td>\n",
       "      <td>0</td>\n",
       "      <td>0</td>\n",
       "      <td>0</td>\n",
       "      <td>1</td>\n",
       "      <td>0</td>\n",
       "      <td>0</td>\n",
       "      <td>0</td>\n",
       "    </tr>\n",
       "    <tr>\n",
       "      <th>chr1-180730-181630</th>\n",
       "      <td>0</td>\n",
       "      <td>0</td>\n",
       "      <td>0</td>\n",
       "      <td>0</td>\n",
       "      <td>0</td>\n",
       "      <td>0</td>\n",
       "      <td>0</td>\n",
       "      <td>0</td>\n",
       "      <td>0</td>\n",
       "      <td>0</td>\n",
       "      <td>...</td>\n",
       "      <td>0</td>\n",
       "      <td>0</td>\n",
       "      <td>0</td>\n",
       "      <td>0</td>\n",
       "      <td>0</td>\n",
       "      <td>0</td>\n",
       "      <td>2</td>\n",
       "      <td>0</td>\n",
       "      <td>0</td>\n",
       "      <td>0</td>\n",
       "    </tr>\n",
       "    <tr>\n",
       "      <th>chr1-191491-191736</th>\n",
       "      <td>0</td>\n",
       "      <td>0</td>\n",
       "      <td>0</td>\n",
       "      <td>0</td>\n",
       "      <td>0</td>\n",
       "      <td>0</td>\n",
       "      <td>0</td>\n",
       "      <td>0</td>\n",
       "      <td>0</td>\n",
       "      <td>0</td>\n",
       "      <td>...</td>\n",
       "      <td>0</td>\n",
       "      <td>0</td>\n",
       "      <td>0</td>\n",
       "      <td>0</td>\n",
       "      <td>0</td>\n",
       "      <td>0</td>\n",
       "      <td>0</td>\n",
       "      <td>0</td>\n",
       "      <td>0</td>\n",
       "      <td>0</td>\n",
       "    </tr>\n",
       "    <tr>\n",
       "      <th>chr1-267816-268196</th>\n",
       "      <td>0</td>\n",
       "      <td>2</td>\n",
       "      <td>0</td>\n",
       "      <td>0</td>\n",
       "      <td>0</td>\n",
       "      <td>0</td>\n",
       "      <td>0</td>\n",
       "      <td>0</td>\n",
       "      <td>0</td>\n",
       "      <td>0</td>\n",
       "      <td>...</td>\n",
       "      <td>0</td>\n",
       "      <td>0</td>\n",
       "      <td>0</td>\n",
       "      <td>0</td>\n",
       "      <td>0</td>\n",
       "      <td>0</td>\n",
       "      <td>0</td>\n",
       "      <td>0</td>\n",
       "      <td>0</td>\n",
       "      <td>0</td>\n",
       "    </tr>\n",
       "    <tr>\n",
       "      <th>chr1-586028-586373</th>\n",
       "      <td>0</td>\n",
       "      <td>0</td>\n",
       "      <td>0</td>\n",
       "      <td>0</td>\n",
       "      <td>0</td>\n",
       "      <td>0</td>\n",
       "      <td>0</td>\n",
       "      <td>0</td>\n",
       "      <td>0</td>\n",
       "      <td>0</td>\n",
       "      <td>...</td>\n",
       "      <td>0</td>\n",
       "      <td>0</td>\n",
       "      <td>0</td>\n",
       "      <td>0</td>\n",
       "      <td>0</td>\n",
       "      <td>0</td>\n",
       "      <td>0</td>\n",
       "      <td>0</td>\n",
       "      <td>0</td>\n",
       "      <td>0</td>\n",
       "    </tr>\n",
       "  </tbody>\n",
       "</table>\n",
       "<p>5 rows × 2999 columns</p>\n",
       "</div>"
      ],
      "text/plain": [
       "                    AAACCAACACAATGCC.1  AAACCAACAGGAACTG.1  \\\n",
       "peak                                                         \n",
       "chr1-10109-10357                     0                   0   \n",
       "chr1-180730-181630                   0                   0   \n",
       "chr1-191491-191736                   0                   0   \n",
       "chr1-267816-268196                   0                   2   \n",
       "chr1-586028-586373                   0                   0   \n",
       "\n",
       "                    AAACCAACATAATCCG.1  AAACCAACATTGTGCA.1  \\\n",
       "peak                                                         \n",
       "chr1-10109-10357                     0                   0   \n",
       "chr1-180730-181630                   0                   0   \n",
       "chr1-191491-191736                   0                   0   \n",
       "chr1-267816-268196                   0                   0   \n",
       "chr1-586028-586373                   0                   0   \n",
       "\n",
       "                    AAACCGCGTACTTCAC.1  AAACCGGCATAATCAC.1  \\\n",
       "peak                                                         \n",
       "chr1-10109-10357                     0                   0   \n",
       "chr1-180730-181630                   0                   0   \n",
       "chr1-191491-191736                   0                   0   \n",
       "chr1-267816-268196                   0                   0   \n",
       "chr1-586028-586373                   0                   0   \n",
       "\n",
       "                    AAACGCGCAGCAAGAT.1  AAACGGATCCCATAGG.1  \\\n",
       "peak                                                         \n",
       "chr1-10109-10357                     0                   0   \n",
       "chr1-180730-181630                   0                   0   \n",
       "chr1-191491-191736                   0                   0   \n",
       "chr1-267816-268196                   0                   0   \n",
       "chr1-586028-586373                   0                   0   \n",
       "\n",
       "                    AAAGCAAGTGCTAGCG.1  AAAGCCCGTCCTTTAA.1  ...  \\\n",
       "peak                                                        ...   \n",
       "chr1-10109-10357                     0                   0  ...   \n",
       "chr1-180730-181630                   0                   0  ...   \n",
       "chr1-191491-191736                   0                   0  ...   \n",
       "chr1-267816-268196                   0                   0  ...   \n",
       "chr1-586028-586373                   0                   0  ...   \n",
       "\n",
       "                    TTTGTCCCAGTAGGAT.1  TTTGTCTAGCTATTAG.1  \\\n",
       "peak                                                         \n",
       "chr1-10109-10357                     0                   0   \n",
       "chr1-180730-181630                   0                   0   \n",
       "chr1-191491-191736                   0                   0   \n",
       "chr1-267816-268196                   0                   0   \n",
       "chr1-586028-586373                   0                   0   \n",
       "\n",
       "                    TTTGTCTAGGACCTGC.1  TTTGTGAAGCGATACT.1  \\\n",
       "peak                                                         \n",
       "chr1-10109-10357                     0                   0   \n",
       "chr1-180730-181630                   0                   0   \n",
       "chr1-191491-191736                   0                   0   \n",
       "chr1-267816-268196                   0                   0   \n",
       "chr1-586028-586373                   0                   0   \n",
       "\n",
       "                    TTTGTGAAGGAACGGT.1  TTTGTGGCAGCAACCT.1  \\\n",
       "peak                                                         \n",
       "chr1-10109-10357                     0                   0   \n",
       "chr1-180730-181630                   0                   0   \n",
       "chr1-191491-191736                   0                   0   \n",
       "chr1-267816-268196                   0                   0   \n",
       "chr1-586028-586373                   0                   0   \n",
       "\n",
       "                    TTTGTGTTCATTGACA.1  TTTGTGTTCGTCAAGT.1  \\\n",
       "peak                                                         \n",
       "chr1-10109-10357                     1                   0   \n",
       "chr1-180730-181630                   2                   0   \n",
       "chr1-191491-191736                   0                   0   \n",
       "chr1-267816-268196                   0                   0   \n",
       "chr1-586028-586373                   0                   0   \n",
       "\n",
       "                    TTTGTGTTCTCCATAT.1  TTTGTTGGTCAGGAAG.1  \n",
       "peak                                                        \n",
       "chr1-10109-10357                     0                   0  \n",
       "chr1-180730-181630                   0                   0  \n",
       "chr1-191491-191736                   0                   0  \n",
       "chr1-267816-268196                   0                   0  \n",
       "chr1-586028-586373                   0                   0  \n",
       "\n",
       "[5 rows x 2999 columns]"
      ]
     },
     "execution_count": 17,
     "metadata": {},
     "output_type": "execute_result"
    }
   ],
   "source": [
    "atac_file = '/Users/omama/Documents/Portfolio/gids_hackathon2024/Hackathon-Summer-2024/data/Tab_delimited_text/Hackathon2024.ATAC.txt.gz'\n",
    "atac_dataframe = pd.read_csv(atac_file, compression = 'gzip', sep='\\t', index_col=0)\n",
    "atac_dataframe.head()"
   ]
  },
  {
   "cell_type": "code",
   "execution_count": 16,
   "metadata": {},
   "outputs": [
    {
     "data": {
      "text/plain": [
       "(5, 2999)"
      ]
     },
     "execution_count": 16,
     "metadata": {},
     "output_type": "execute_result"
    }
   ],
   "source": [
    "atac_dataframe.shape"
   ]
  },
  {
   "cell_type": "code",
   "execution_count": 18,
   "metadata": {},
   "outputs": [
    {
     "data": {
      "text/html": [
       "<div>\n",
       "<style scoped>\n",
       "    .dataframe tbody tr th:only-of-type {\n",
       "        vertical-align: middle;\n",
       "    }\n",
       "\n",
       "    .dataframe tbody tr th {\n",
       "        vertical-align: top;\n",
       "    }\n",
       "\n",
       "    .dataframe thead th {\n",
       "        text-align: right;\n",
       "    }\n",
       "</style>\n",
       "<table border=\"1\" class=\"dataframe\">\n",
       "  <thead>\n",
       "    <tr style=\"text-align: right;\">\n",
       "      <th></th>\n",
       "      <th>nCount_RNA</th>\n",
       "      <th>nCount_ATAC</th>\n",
       "      <th>CellType</th>\n",
       "    </tr>\n",
       "  </thead>\n",
       "  <tbody>\n",
       "    <tr>\n",
       "      <th>AAACCAACACAATGCC-1</th>\n",
       "      <td>5849</td>\n",
       "      <td>16550</td>\n",
       "      <td>CD14 Mono</td>\n",
       "    </tr>\n",
       "    <tr>\n",
       "      <th>AAACCAACAGGAACTG-1</th>\n",
       "      <td>5901</td>\n",
       "      <td>25593</td>\n",
       "      <td>CD14 Mono</td>\n",
       "    </tr>\n",
       "    <tr>\n",
       "      <th>AAACCAACATAATCCG-1</th>\n",
       "      <td>7975</td>\n",
       "      <td>42743</td>\n",
       "      <td>CD14 Mono</td>\n",
       "    </tr>\n",
       "    <tr>\n",
       "      <th>AAACCAACATTGTGCA-1</th>\n",
       "      <td>5525</td>\n",
       "      <td>21760</td>\n",
       "      <td>CD14 Mono</td>\n",
       "    </tr>\n",
       "    <tr>\n",
       "      <th>AAACCGCGTACTTCAC-1</th>\n",
       "      <td>10327</td>\n",
       "      <td>76652</td>\n",
       "      <td>CD14 Mono</td>\n",
       "    </tr>\n",
       "  </tbody>\n",
       "</table>\n",
       "</div>"
      ],
      "text/plain": [
       "                    nCount_RNA  nCount_ATAC   CellType\n",
       "AAACCAACACAATGCC-1        5849        16550  CD14 Mono\n",
       "AAACCAACAGGAACTG-1        5901        25593  CD14 Mono\n",
       "AAACCAACATAATCCG-1        7975        42743  CD14 Mono\n",
       "AAACCAACATTGTGCA-1        5525        21760  CD14 Mono\n",
       "AAACCGCGTACTTCAC-1       10327        76652  CD14 Mono"
      ]
     },
     "execution_count": 18,
     "metadata": {},
     "output_type": "execute_result"
    }
   ],
   "source": [
    "meta_file = '/Users/omama/Documents/Portfolio/gids_hackathon2024/Hackathon-Summer-2024/data/Tab_delimited_text/Hackathon2024.Meta.txt.gz'\n",
    "meta_dataframe = pd.read_csv(meta_file, compression = 'gzip', sep='\\t', index_col=0)\n",
    "meta_dataframe.head()"
   ]
  },
  {
   "cell_type": "code",
   "execution_count": 20,
   "metadata": {},
   "outputs": [
    {
     "data": {
      "text/plain": [
       "(2999, 3)"
      ]
     },
     "execution_count": 20,
     "metadata": {},
     "output_type": "execute_result"
    }
   ],
   "source": [
    "meta_dataframe.shape"
   ]
  },
  {
   "cell_type": "code",
   "execution_count": 22,
   "metadata": {},
   "outputs": [
    {
     "name": "stdout",
     "output_type": "stream",
     "text": [
      "<bound method Series.unique of AAACCAACACAATGCC-1     5849\n",
      "AAACCAACAGGAACTG-1     5901\n",
      "AAACCAACATAATCCG-1     7975\n",
      "AAACCAACATTGTGCA-1     5525\n",
      "AAACCGCGTACTTCAC-1    10327\n",
      "                      ...  \n",
      "TTTGTGGCAGCAACCT-1     3820\n",
      "TTTGTGTTCATTGACA-1     3877\n",
      "TTTGTGTTCGTCAAGT-1     6372\n",
      "TTTGTGTTCTCCATAT-1     5803\n",
      "TTTGTTGGTCAGGAAG-1     4690\n",
      "Name: nCount_RNA, Length: 2999, dtype: int64>\n"
     ]
    }
   ],
   "source": [
    "print(meta_dataframe['nCount_RNA'].unique)"
   ]
  },
  {
   "cell_type": "code",
   "execution_count": null,
   "metadata": {},
   "outputs": [],
   "source": []
  }
 ],
 "metadata": {
  "kernelspec": {
   "display_name": "gids-hackathon",
   "language": "python",
   "name": "python3"
  },
  "language_info": {
   "codemirror_mode": {
    "name": "ipython",
    "version": 3
   },
   "file_extension": ".py",
   "mimetype": "text/x-python",
   "name": "python",
   "nbconvert_exporter": "python",
   "pygments_lexer": "ipython3",
   "version": "3.9.19"
  }
 },
 "nbformat": 4,
 "nbformat_minor": 2
}
